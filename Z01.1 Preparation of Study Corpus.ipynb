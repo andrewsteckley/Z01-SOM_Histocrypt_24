{
 "cells": [
  {
   "cell_type": "markdown",
   "id": "e68be474-b2fc-4718-b37d-bba379d2b9bd",
   "metadata": {},
   "source": [
    "# Z01.1: Prepation of Study Corpus"
   ]
  },
  {
   "cell_type": "markdown",
   "id": "5d11f6ed-e0f1-4e59-93e9-db293f8d43b5",
   "metadata": {},
   "source": [
    "This notebook sets up the Study Corpus for the first Scribal Intent Study (Z01)."
   ]
  },
  {
   "cell_type": "markdown",
   "id": "3eaa2801-b1f0-4669-92e5-23da6298a5c2",
   "metadata": {},
   "source": [
    "## Setup and Utility Functions"
   ]
  },
  {
   "cell_type": "code",
   "execution_count": 13,
   "id": "e4306cdf-d72d-4486-b95d-c9d78c846240",
   "metadata": {},
   "outputs": [],
   "source": [
    "# Imports and setup\n",
    "from voynichlib.Corpus import Corpus\n",
    "from voynichlib.Transliteration import Transliteration\n",
    "import matplotlib.pyplot as plt\n",
    "import seaborn as sns\n",
    "\n",
    "%reload_ext autoreload\n",
    "%autoreload 2"
   ]
  },
  {
   "cell_type": "code",
   "execution_count": 21,
   "id": "5205e68f-a632-4b17-b8fb-1e8de45cb3f0",
   "metadata": {},
   "outputs": [],
   "source": [
    "# Custom plot \n",
    "def plot_scribes_and_topics_heatmap(data, c, label_dict, filename:None):\n",
    "    # Count the number of folios for each combination of scribe and illustration\n",
    "    count_data = data.groupby(['fagin_davis_scribe', 'illustration']).size().reset_index(name='count')\n",
    "    \n",
    "    # Creating a pivot table with swapped rows and columns\n",
    "    pivot_table = count_data.pivot_table(index='illustration', columns='fagin_davis_scribe', values='count', fill_value=0)\n",
    "\n",
    "    # Rename the row labels using the provided dictionary\n",
    "    pivot_table = pivot_table.rename(index=label_dict)\n",
    "\n",
    "    # Mask for cells with 0 value\n",
    "    mask = pivot_table == 0\n",
    "\n",
    "    def annotate_heatmap(data, ax):\n",
    "        for y in range(data.shape[0]):\n",
    "            for x in range(data.shape[1]):\n",
    "                value = data.iloc[y, x]\n",
    "                if value > 0:  # Annotate only if value is greater than 0\n",
    "                    # Set font color to white if the value is over 90, otherwise black\n",
    "                    font_color = 'white' if value > 90 else 'black'\n",
    "                    plt.text(x + 0.5, y + 0.5, f'{int(value)}', \n",
    "                             horizontalalignment='center', \n",
    "                             verticalalignment='center', \n",
    "                             color=font_color,\n",
    "                            fontsize=12)\n",
    "\n",
    "    plt.figure(figsize=(4, 4))  # Adjusted figure size for better visibility of labels\n",
    "    # Plotting the heatmap with the mask and line settings\n",
    "    sns.heatmap(pivot_table, cmap=c, fmt=\"d\", cbar=False, mask=mask, linecolor='black', linewidths=0.1)\n",
    "    \n",
    "    # Annotating the heatmap using the custom function\n",
    "    annotate_heatmap(pivot_table, plt.gca())\n",
    "\n",
    "    plt.xticks(rotation=0)  # Rotate column labels to horizontal\n",
    "    plt.yticks(rotation=0)  # Rotate row labels to horizontal\n",
    "    \n",
    "    plt.xlabel(\"Scribe\")\n",
    "    plt.ylabel(\"Illustration Type\")\n",
    "    if filename:\n",
    "        plt.savefig(filename,  bbox_inches='tight')\n",
    "    plt.show()\n",
    "    return"
   ]
  },
  {
   "cell_type": "markdown",
   "id": "4b0ace64-ba95-428e-b9f5-092469a38e58",
   "metadata": {},
   "source": [
    "## Transliterations"
   ]
  },
  {
   "cell_type": "code",
   "execution_count": 22,
   "id": "de12c990-2b0d-4bff-97ee-1a81a3710e85",
   "metadata": {},
   "outputs": [],
   "source": [
    "transliteration_source_file = 'voynich_data/standard_ivtff/ZL_N_ext_Eva_3a.ivtff'"
   ]
  },
  {
   "cell_type": "code",
   "execution_count": 23,
   "id": "d8b00b83-59a0-43f2-beea-d86d26b50332",
   "metadata": {},
   "outputs": [
    {
     "name": "stdout",
     "output_type": "stream",
     "text": [
      "--------------------------------------------------------------------------------\n",
      "Transliteration from IVTFF file 'voynich_data/standard_ivtff/ZL_N_ext_Eva_3a'\n",
      "\tAlphabet:'Eva-' (ZL),    Alphabet Version:2.0\n",
      "\tTransliteration Version: 2.0\n",
      "\t\t\tNum folios  : \t\t       227\n",
      "\t\t\tNum lines   : \t\t     5,389\n",
      "--------------------------------------------------------------------------------\n"
     ]
    }
   ],
   "source": [
    "transliteration = Transliteration(transliteration_source_file)"
   ]
  },
  {
   "cell_type": "code",
   "execution_count": 24,
   "id": "4160aef7-2070-4c2a-8ebc-ec5a4dafb043",
   "metadata": {},
   "outputs": [
    {
     "name": "stderr",
     "output_type": "stream",
     "text": [
      "Compiling Corpus ... [Elapsed: 0:00:01] |###################| (Took:  0:00:01) \n"
     ]
    },
    {
     "name": "stdout",
     "output_type": "stream",
     "text": [
      "--------------------------------------------------------------------------------\n",
      "Corpus: Entire Manuscript\n",
      "\tFrom Transliteration file 'voynich_data/standard_ivtff/ZL_N_ext_Eva_3a'\n",
      "\t\tAlphabet:'Eva-' (ZL),    Alphabet Version:2.0\n",
      "\t\tTransliteration Version: 2.0\n",
      "Selection Criteria: {}\n",
      "\tNum folios : \t\t       227\n",
      "\tNum lines  : \t\t     5,389\n",
      "\tNum tokens : \t\t    39,020\n",
      "\tNum glyphs : \t\t   195,794\n",
      "\tNum Unique tokens: \t     8,759\n",
      "\tNum Unique glyphs: \t       110\n",
      "--------------------------------------------------------------------------------\n"
     ]
    }
   ],
   "source": [
    "corpus = Corpus(f\"Entire Manuscript\", transliteration, criteria = {})"
   ]
  },
  {
   "cell_type": "code",
   "execution_count": 25,
   "id": "8c59b92e-2b75-4dc4-a8f4-936b8288eed5",
   "metadata": {},
   "outputs": [],
   "source": [
    "whole_corpus_file = 'voynich_data/outputs/whole_corpus.pkl'\n",
    "corpus.save(whole_corpus_file)"
   ]
  },
  {
   "cell_type": "markdown",
   "id": "2ba59a12-5a69-49d6-9369-a7143a49e9ba",
   "metadata": {},
   "source": [
    "## Scribes and Topic Sections"
   ]
  },
  {
   "cell_type": "code",
   "execution_count": 26,
   "id": "0996414c-cb72-4e97-8ce2-7f2874ee2819",
   "metadata": {},
   "outputs": [
    {
     "name": "stdout",
     "output_type": "stream",
     "text": [
      "--------------------------------------------------------------------------------\n",
      "Corpus: VMS All\n",
      "\tFrom Transliteration file 'voynich_data/standard_ivtff/ZL_N_ext_Eva_3a'\n",
      "\t\tAlphabet:'Eva-' (ZL),    Alphabet Version:2.0\n",
      "\t\tTransliteration Version: 2.0\n",
      "Selection Criteria: {}\n",
      "\tNum folios : \t\t       227\n",
      "\tNum lines  : \t\t     5,389\n",
      "\tNum tokens : \t\t    39,020\n",
      "\tNum glyphs : \t\t   195,794\n",
      "\tNum Unique tokens: \t     8,759\n",
      "\tNum Unique glyphs: \t       110\n",
      "--------------------------------------------------------------------------------\n"
     ]
    },
    {
     "data": {
      "image/png": "[encoded data removed]",
      "text/plain": [
       "<Figure size 400x400 with 1 Axes>"
      ]
     },
     "metadata": {},
     "output_type": "display_data"
    }
   ],
   "source": [
    "corpus_all = Corpus(f\"VMS All\", transliteration)\n",
    "data = corpus_all.folios_df()[['folio','illustration','fagin_davis_scribe']]\n",
    "\n",
    "label_dict = label_dict = {'A':'Astronomical',\n",
    "              'B': 'Biological',\n",
    "              'C': 'Cosmological',\n",
    "              'H': 'Herbal',\n",
    "              'P': 'Phamaceutical',\n",
    "              'S': 'Stars (Recipes)',\n",
    "              'T': 'Text Only',\n",
    "              'Z': 'Zodiac'}\n",
    "\n",
    "plot_scribes_and_topics_heatmap(data, 'Greens', label_dict, 'voynich_data/outputs/F_Folios_by_Scribe_and_Illustration_Type.png')\n"
   ]
  },
  {
   "cell_type": "markdown",
   "id": "f283ddf2-d91b-4a78-b993-a672e86f64f6",
   "metadata": {},
   "source": [
    "## Creating Study Corpus\n",
    "\n",
    "This corpus will isolate Scribe 1 from the Herbal pages and only include unambigous tokens from paragraphs, excluding the last token in a paragraph"
   ]
  },
  {
   "cell_type": "code",
   "execution_count": 8,
   "id": "7daa0be8-47b9-4557-8a62-8b1d0dc698bf",
   "metadata": {},
   "outputs": [
    {
     "name": "stdout",
     "output_type": "stream",
     "text": [
      "--------------------------------------------------------------------------------\n",
      "Corpus: Study Corpus for Positional Tokens Analysis\n",
      "\tFrom Transliteration file 'voynich_data/standard_ivtff/ZL_N_ext_Eva_3a'\n",
      "\t\tAlphabet:'Eva-' (ZL),    Alphabet Version:2.0\n",
      "\t\tTransliteration Version: 2.0\n",
      "Selection Criteria: {\n",
      "    \"fagin_davis_scribes\": [\n",
      "        \"1\"\n",
      "    ],\n",
      "    \"illustrations\": \"H\",\n",
      "    \"locus_generic_types\": \"P\",\n",
      "    \"paragraph_end_token\": false,\n",
      "    \"unambiguous_token\": true\n",
      "}\n",
      "\tNum folios : \t\t        95\n",
      "\tNum lines  : \t\t     1,223\n",
      "\tNum tokens : \t\t     7,660\n",
      "\tNum glyphs : \t\t    36,177\n",
      "\tNum Unique tokens: \t     2,355\n",
      "\tNum Unique glyphs: \t        67\n",
      "--------------------------------------------------------------------------------\n"
     ]
    }
   ],
   "source": [
    "corpus = Corpus(f\"Study Corpus for Positional Tokens Analysis\", transliteration, criteria = {\n",
    "    'fagin_davis_scribes' : ['1'],\n",
    "    'illustrations':'H',\n",
    "    'unambiguous_token': True,\n",
    "    'paragraph_end_token': False,\n",
    "    'locus_generic_types': 'P'})"
   ]
  },
  {
   "cell_type": "code",
   "execution_count": 9,
   "id": "7e95f776-dd16-4cff-b2e0-864e515fb5d3",
   "metadata": {},
   "outputs": [],
   "source": [
    "study_corpus_file = 'voynich_data/outputs/Study_Corpus_for_Positional_Tokens_Analysis.pkl'"
   ]
  },
  {
   "cell_type": "code",
   "execution_count": 10,
   "id": "103c8d9a-8df7-412d-8004-6885a080a1c4",
   "metadata": {},
   "outputs": [],
   "source": [
    "corpus.save(study_corpus_file)"
   ]
  },
  {
   "cell_type": "markdown",
   "id": "e7e22f5d-8be2-4742-9908-8c037cbc438d",
   "metadata": {},
   "source": [
    "## List of Folios is Study Corpus"
   ]
  },
  {
   "cell_type": "code",
   "execution_count": 11,
   "id": "f0e43f2a-d6f6-4701-9fa6-e6beb1e4f6f9",
   "metadata": {},
   "outputs": [
    {
     "data": {
      "text/plain": [
       "['f1v',\n",
       " 'f2r',\n",
       " 'f2v',\n",
       " 'f3r',\n",
       " 'f3v',\n",
       " 'f4r',\n",
       " 'f4v',\n",
       " 'f5r',\n",
       " 'f5v',\n",
       " 'f6r',\n",
       " 'f6v',\n",
       " 'f7r',\n",
       " 'f7v',\n",
       " 'f8r',\n",
       " 'f8v',\n",
       " 'f9r',\n",
       " 'f9v',\n",
       " 'f10r',\n",
       " 'f10v',\n",
       " 'f11r',\n",
       " 'f11v',\n",
       " 'f13r',\n",
       " 'f13v',\n",
       " 'f14r',\n",
       " 'f14v',\n",
       " 'f15r',\n",
       " 'f15v',\n",
       " 'f16r',\n",
       " 'f16v',\n",
       " 'f17r',\n",
       " 'f17v',\n",
       " 'f18r',\n",
       " 'f18v',\n",
       " 'f19r',\n",
       " 'f19v',\n",
       " 'f20r',\n",
       " 'f20v',\n",
       " 'f21r',\n",
       " 'f21v',\n",
       " 'f22r',\n",
       " 'f22v',\n",
       " 'f23r',\n",
       " 'f23v',\n",
       " 'f24r',\n",
       " 'f24v',\n",
       " 'f25r',\n",
       " 'f25v',\n",
       " 'f27r',\n",
       " 'f27v',\n",
       " 'f28r',\n",
       " 'f28v',\n",
       " 'f29r',\n",
       " 'f29v',\n",
       " 'f30r',\n",
       " 'f30v',\n",
       " 'f32r',\n",
       " 'f32v',\n",
       " 'f35r',\n",
       " 'f35v',\n",
       " 'f36r',\n",
       " 'f36v',\n",
       " 'f37r',\n",
       " 'f37v',\n",
       " 'f38r',\n",
       " 'f38v',\n",
       " 'f42r',\n",
       " 'f42v',\n",
       " 'f44r',\n",
       " 'f44v',\n",
       " 'f45r',\n",
       " 'f45v',\n",
       " 'f47r',\n",
       " 'f47v',\n",
       " 'f49r',\n",
       " 'f49v',\n",
       " 'f51r',\n",
       " 'f51v',\n",
       " 'f52r',\n",
       " 'f52v',\n",
       " 'f53r',\n",
       " 'f53v',\n",
       " 'f54r',\n",
       " 'f54v',\n",
       " 'f56r',\n",
       " 'f56v',\n",
       " 'f87r',\n",
       " 'f87v',\n",
       " 'f90r1',\n",
       " 'f90r2',\n",
       " 'f90v2',\n",
       " 'f90v1',\n",
       " 'f93r',\n",
       " 'f93v',\n",
       " 'f96r',\n",
       " 'f96v']"
      ]
     },
     "execution_count": 11,
     "metadata": {},
     "output_type": "execute_result"
    }
   ],
   "source": [
    "corpus.folios()"
   ]
  },
  {
   "cell_type": "markdown",
   "id": "f09a8173-4522-4c53-bd0d-717cbd8c6b2d",
   "metadata": {},
   "source": [
    "## Test of Reload"
   ]
  },
  {
   "cell_type": "code",
   "execution_count": 12,
   "id": "c6bdc8ff-137b-4b8b-b839-ece2b1619a18",
   "metadata": {},
   "outputs": [
    {
     "name": "stdout",
     "output_type": "stream",
     "text": [
      "--------------------------------------------------------------------------------\n",
      "Corpus: Study Corpus for Positional Tokens Analysis\n",
      "\tFrom Transliteration file 'voynich_data/standard_ivtff/ZL_N_ext_Eva_3a'\n",
      "\t\tAlphabet:'Eva-' (ZL),    Alphabet Version:2.0\n",
      "\t\tTransliteration Version: 2.0\n",
      "Selection Criteria: {\n",
      "    \"fagin_davis_scribes\": [\n",
      "        \"1\"\n",
      "    ],\n",
      "    \"illustrations\": \"H\",\n",
      "    \"locus_generic_types\": \"P\",\n",
      "    \"paragraph_end_token\": false,\n",
      "    \"unambiguous_token\": true\n",
      "}\n",
      "\tNum folios : \t\t        95\n",
      "\tNum lines  : \t\t     1,223\n",
      "\tNum tokens : \t\t     7,660\n",
      "\tNum glyphs : \t\t    36,177\n",
      "\tNum Unique tokens: \t     2,355\n",
      "\tNum Unique glyphs: \t        67\n",
      "--------------------------------------------------------------------------------\n"
     ]
    }
   ],
   "source": [
    "corpus_x = Corpus.from_file(study_corpus_file)"
   ]
  },
  {
   "cell_type": "code",
   "execution_count": null,
   "id": "46672c99-2d41-4d20-ba17-cdd8602ba1e5",
   "metadata": {},
   "outputs": [],
   "source": []
  }
 ],
 "metadata": {
  "kernelspec": {
   "display_name": "Python 3 (ipykernel)",
   "language": "python",
   "name": "python3"
  },
  "language_info": {
   "codemirror_mode": {
    "name": "ipython",
    "version": 3
   },
   "file_extension": ".py",
   "mimetype": "text/x-python",
   "name": "python",
   "nbconvert_exporter": "python",
   "pygments_lexer": "ipython3",
   "version": "3.10.13"
  }
 },
 "nbformat": 4,
 "nbformat_minor": 5
}
